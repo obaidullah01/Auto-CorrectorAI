{
 "cells": [
  {
   "cell_type": "markdown",
   "metadata": {},
   "source": [
    "AI which tries to correct the word or give the word which is nearest to it."
   ]
  },
  {
   "cell_type": "code",
   "execution_count": 1,
   "metadata": {},
   "outputs": [
    {
     "name": "stdout",
     "output_type": "stream",
     "text": [
      "The corrected word for 'cimputer' is 'computer'.\n"
     ]
    }
   ],
   "source": [
    "import nltk\n",
    "from nltk.corpus import wordnet\n",
    "from nltk.metrics import edit_distance\n",
    "\n",
    "def correct_word(word):\n",
    "    # Check if the word is in the dictionary\n",
    "    if wordnet.synsets(word):\n",
    "        return word\n",
    "\n",
    "    # Find the most similar word in the dictionary\n",
    "    suggestions = []\n",
    "    for synset in wordnet.all_synsets():\n",
    "        for lemma in synset.lemmas():\n",
    "            suggestions.append(lemma.name())\n",
    "\n",
    "    closest_word = min(suggestions, key=lambda x: edit_distance(word, x))\n",
    "    return closest_word\n",
    "\n",
    "# User input\n",
    "user_word = input(\"Enter a word: \")\n",
    "\n",
    "# Correct the word or find the nearest correct word\n",
    "corrected_word = correct_word(user_word)\n",
    "\n",
    "print(f\"The corrected word for '{user_word}' is '{corrected_word}'.\")\n"
   ]
  }
 ],
 "metadata": {
  "kernelspec": {
   "display_name": "nltk-env",
   "language": "python",
   "name": "python3"
  },
  "language_info": {
   "codemirror_mode": {
    "name": "ipython",
    "version": 3
   },
   "file_extension": ".py",
   "mimetype": "text/x-python",
   "name": "python",
   "nbconvert_exporter": "python",
   "pygments_lexer": "ipython3",
   "version": "3.11.4"
  },
  "orig_nbformat": 4
 },
 "nbformat": 4,
 "nbformat_minor": 2
}
